{
 "cells": [
  {
   "cell_type": "code",
   "execution_count": 1,
   "metadata": {},
   "outputs": [],
   "source": [
    "def load_special_tokens(special_token_path, min_cnt):\n",
    "    special_token_list, special_token_dict = [], {}\n",
    "    with open(special_token_path, 'r', encoding = 'utf8') as i:\n",
    "        lines = i.readlines()\n",
    "        for l in lines:\n",
    "            content_list = l.strip('\\n').split()\n",
    "            token = content_list[0]\n",
    "            cnt = int(content_list[1])\n",
    "            if cnt >= min_cnt:\n",
    "                special_token_list.append(token)\n",
    "                special_token_dict[token] = 1\n",
    "    print (len(special_token_list))\n",
    "    return special_token_list, special_token_dict"
   ]
  },
  {
   "cell_type": "code",
   "execution_count": 2,
   "metadata": {},
   "outputs": [
    {
     "name": "stdout",
     "output_type": "stream",
     "text": [
      "2202\n"
     ]
    }
   ],
   "source": [
    "special_token_path = r'../data/totto_col_header_vocab.txt'\n",
    "min_cnt = 10\n",
    "special_token_list, special_token_dict = load_special_tokens(special_token_path, min_cnt)"
   ]
  },
  {
   "cell_type": "code",
   "execution_count": 3,
   "metadata": {},
   "outputs": [
    {
     "data": {
      "text/plain": [
       "2202"
      ]
     },
     "execution_count": 3,
     "metadata": {},
     "output_type": "execute_result"
    }
   ],
   "source": [
    "from transformers import BartTokenizerFast\n",
    "tokenizer = BartTokenizerFast.from_pretrained('facebook/bart-base')\n",
    "tokenizer.add_tokens(special_token_list)\n",
    "\n",
    "from transformers import BartTokenizer\n",
    "decode_tokenizer = BartTokenizer.from_pretrained('facebook/bart-base')\n",
    "decode_tokenizer.add_tokens(special_token_list)"
   ]
  },
  {
   "cell_type": "code",
   "execution_count": 4,
   "metadata": {},
   "outputs": [],
   "source": [
    "import torch\n",
    "ckpt_path = r'./ckpt/finetune/generator-rl-finetune.ckpt'\n",
    "model_ckpt = torch.load(ckpt_path, map_location='cpu')"
   ]
  },
  {
   "cell_type": "code",
   "execution_count": 5,
   "metadata": {},
   "outputs": [],
   "source": [
    "from generator import Generator"
   ]
  },
  {
   "cell_type": "code",
   "execution_count": 6,
   "metadata": {},
   "outputs": [
    {
     "name": "stdout",
     "output_type": "stream",
     "text": [
      "Initializing Huggingface BART model...\n",
      "Resizing Token Embeddings...\n"
     ]
    }
   ],
   "source": [
    "model_name = r'facebook/bart-base'\n",
    "tokenizer=decode_tokenizer\n",
    "max_decode_len = 80\n",
    "model = Generator(model_name, tokenizer, max_decode_len, dropout=0.0)"
   ]
  },
  {
   "cell_type": "code",
   "execution_count": 7,
   "metadata": {},
   "outputs": [
    {
     "data": {
      "text/plain": [
       "Generator(\n",
       "  (model): BartForConditionalGeneration(\n",
       "    (model): BartModel(\n",
       "      (shared): Embedding(52467, 768)\n",
       "      (encoder): BartEncoder(\n",
       "        (embed_tokens): Embedding(52467, 768)\n",
       "        (embed_positions): BartLearnedPositionalEmbedding(1026, 768)\n",
       "        (layers): ModuleList(\n",
       "          (0): BartEncoderLayer(\n",
       "            (self_attn): BartAttention(\n",
       "              (k_proj): Linear(in_features=768, out_features=768, bias=True)\n",
       "              (v_proj): Linear(in_features=768, out_features=768, bias=True)\n",
       "              (q_proj): Linear(in_features=768, out_features=768, bias=True)\n",
       "              (out_proj): Linear(in_features=768, out_features=768, bias=True)\n",
       "            )\n",
       "            (self_attn_layer_norm): LayerNorm((768,), eps=1e-05, elementwise_affine=True)\n",
       "            (fc1): Linear(in_features=768, out_features=3072, bias=True)\n",
       "            (fc2): Linear(in_features=3072, out_features=768, bias=True)\n",
       "            (final_layer_norm): LayerNorm((768,), eps=1e-05, elementwise_affine=True)\n",
       "          )\n",
       "          (1): BartEncoderLayer(\n",
       "            (self_attn): BartAttention(\n",
       "              (k_proj): Linear(in_features=768, out_features=768, bias=True)\n",
       "              (v_proj): Linear(in_features=768, out_features=768, bias=True)\n",
       "              (q_proj): Linear(in_features=768, out_features=768, bias=True)\n",
       "              (out_proj): Linear(in_features=768, out_features=768, bias=True)\n",
       "            )\n",
       "            (self_attn_layer_norm): LayerNorm((768,), eps=1e-05, elementwise_affine=True)\n",
       "            (fc1): Linear(in_features=768, out_features=3072, bias=True)\n",
       "            (fc2): Linear(in_features=3072, out_features=768, bias=True)\n",
       "            (final_layer_norm): LayerNorm((768,), eps=1e-05, elementwise_affine=True)\n",
       "          )\n",
       "          (2): BartEncoderLayer(\n",
       "            (self_attn): BartAttention(\n",
       "              (k_proj): Linear(in_features=768, out_features=768, bias=True)\n",
       "              (v_proj): Linear(in_features=768, out_features=768, bias=True)\n",
       "              (q_proj): Linear(in_features=768, out_features=768, bias=True)\n",
       "              (out_proj): Linear(in_features=768, out_features=768, bias=True)\n",
       "            )\n",
       "            (self_attn_layer_norm): LayerNorm((768,), eps=1e-05, elementwise_affine=True)\n",
       "            (fc1): Linear(in_features=768, out_features=3072, bias=True)\n",
       "            (fc2): Linear(in_features=3072, out_features=768, bias=True)\n",
       "            (final_layer_norm): LayerNorm((768,), eps=1e-05, elementwise_affine=True)\n",
       "          )\n",
       "          (3): BartEncoderLayer(\n",
       "            (self_attn): BartAttention(\n",
       "              (k_proj): Linear(in_features=768, out_features=768, bias=True)\n",
       "              (v_proj): Linear(in_features=768, out_features=768, bias=True)\n",
       "              (q_proj): Linear(in_features=768, out_features=768, bias=True)\n",
       "              (out_proj): Linear(in_features=768, out_features=768, bias=True)\n",
       "            )\n",
       "            (self_attn_layer_norm): LayerNorm((768,), eps=1e-05, elementwise_affine=True)\n",
       "            (fc1): Linear(in_features=768, out_features=3072, bias=True)\n",
       "            (fc2): Linear(in_features=3072, out_features=768, bias=True)\n",
       "            (final_layer_norm): LayerNorm((768,), eps=1e-05, elementwise_affine=True)\n",
       "          )\n",
       "          (4): BartEncoderLayer(\n",
       "            (self_attn): BartAttention(\n",
       "              (k_proj): Linear(in_features=768, out_features=768, bias=True)\n",
       "              (v_proj): Linear(in_features=768, out_features=768, bias=True)\n",
       "              (q_proj): Linear(in_features=768, out_features=768, bias=True)\n",
       "              (out_proj): Linear(in_features=768, out_features=768, bias=True)\n",
       "            )\n",
       "            (self_attn_layer_norm): LayerNorm((768,), eps=1e-05, elementwise_affine=True)\n",
       "            (fc1): Linear(in_features=768, out_features=3072, bias=True)\n",
       "            (fc2): Linear(in_features=3072, out_features=768, bias=True)\n",
       "            (final_layer_norm): LayerNorm((768,), eps=1e-05, elementwise_affine=True)\n",
       "          )\n",
       "          (5): BartEncoderLayer(\n",
       "            (self_attn): BartAttention(\n",
       "              (k_proj): Linear(in_features=768, out_features=768, bias=True)\n",
       "              (v_proj): Linear(in_features=768, out_features=768, bias=True)\n",
       "              (q_proj): Linear(in_features=768, out_features=768, bias=True)\n",
       "              (out_proj): Linear(in_features=768, out_features=768, bias=True)\n",
       "            )\n",
       "            (self_attn_layer_norm): LayerNorm((768,), eps=1e-05, elementwise_affine=True)\n",
       "            (fc1): Linear(in_features=768, out_features=3072, bias=True)\n",
       "            (fc2): Linear(in_features=3072, out_features=768, bias=True)\n",
       "            (final_layer_norm): LayerNorm((768,), eps=1e-05, elementwise_affine=True)\n",
       "          )\n",
       "        )\n",
       "        (layernorm_embedding): LayerNorm((768,), eps=1e-05, elementwise_affine=True)\n",
       "      )\n",
       "      (decoder): BartDecoder(\n",
       "        (embed_tokens): Embedding(52467, 768)\n",
       "        (embed_positions): BartLearnedPositionalEmbedding(1026, 768)\n",
       "        (layers): ModuleList(\n",
       "          (0): BartDecoderLayer(\n",
       "            (self_attn): BartAttention(\n",
       "              (k_proj): Linear(in_features=768, out_features=768, bias=True)\n",
       "              (v_proj): Linear(in_features=768, out_features=768, bias=True)\n",
       "              (q_proj): Linear(in_features=768, out_features=768, bias=True)\n",
       "              (out_proj): Linear(in_features=768, out_features=768, bias=True)\n",
       "            )\n",
       "            (self_attn_layer_norm): LayerNorm((768,), eps=1e-05, elementwise_affine=True)\n",
       "            (encoder_attn): BartAttention(\n",
       "              (k_proj): Linear(in_features=768, out_features=768, bias=True)\n",
       "              (v_proj): Linear(in_features=768, out_features=768, bias=True)\n",
       "              (q_proj): Linear(in_features=768, out_features=768, bias=True)\n",
       "              (out_proj): Linear(in_features=768, out_features=768, bias=True)\n",
       "            )\n",
       "            (encoder_attn_layer_norm): LayerNorm((768,), eps=1e-05, elementwise_affine=True)\n",
       "            (fc1): Linear(in_features=768, out_features=3072, bias=True)\n",
       "            (fc2): Linear(in_features=3072, out_features=768, bias=True)\n",
       "            (final_layer_norm): LayerNorm((768,), eps=1e-05, elementwise_affine=True)\n",
       "          )\n",
       "          (1): BartDecoderLayer(\n",
       "            (self_attn): BartAttention(\n",
       "              (k_proj): Linear(in_features=768, out_features=768, bias=True)\n",
       "              (v_proj): Linear(in_features=768, out_features=768, bias=True)\n",
       "              (q_proj): Linear(in_features=768, out_features=768, bias=True)\n",
       "              (out_proj): Linear(in_features=768, out_features=768, bias=True)\n",
       "            )\n",
       "            (self_attn_layer_norm): LayerNorm((768,), eps=1e-05, elementwise_affine=True)\n",
       "            (encoder_attn): BartAttention(\n",
       "              (k_proj): Linear(in_features=768, out_features=768, bias=True)\n",
       "              (v_proj): Linear(in_features=768, out_features=768, bias=True)\n",
       "              (q_proj): Linear(in_features=768, out_features=768, bias=True)\n",
       "              (out_proj): Linear(in_features=768, out_features=768, bias=True)\n",
       "            )\n",
       "            (encoder_attn_layer_norm): LayerNorm((768,), eps=1e-05, elementwise_affine=True)\n",
       "            (fc1): Linear(in_features=768, out_features=3072, bias=True)\n",
       "            (fc2): Linear(in_features=3072, out_features=768, bias=True)\n",
       "            (final_layer_norm): LayerNorm((768,), eps=1e-05, elementwise_affine=True)\n",
       "          )\n",
       "          (2): BartDecoderLayer(\n",
       "            (self_attn): BartAttention(\n",
       "              (k_proj): Linear(in_features=768, out_features=768, bias=True)\n",
       "              (v_proj): Linear(in_features=768, out_features=768, bias=True)\n",
       "              (q_proj): Linear(in_features=768, out_features=768, bias=True)\n",
       "              (out_proj): Linear(in_features=768, out_features=768, bias=True)\n",
       "            )\n",
       "            (self_attn_layer_norm): LayerNorm((768,), eps=1e-05, elementwise_affine=True)\n",
       "            (encoder_attn): BartAttention(\n",
       "              (k_proj): Linear(in_features=768, out_features=768, bias=True)\n",
       "              (v_proj): Linear(in_features=768, out_features=768, bias=True)\n",
       "              (q_proj): Linear(in_features=768, out_features=768, bias=True)\n",
       "              (out_proj): Linear(in_features=768, out_features=768, bias=True)\n",
       "            )\n",
       "            (encoder_attn_layer_norm): LayerNorm((768,), eps=1e-05, elementwise_affine=True)\n",
       "            (fc1): Linear(in_features=768, out_features=3072, bias=True)\n",
       "            (fc2): Linear(in_features=3072, out_features=768, bias=True)\n",
       "            (final_layer_norm): LayerNorm((768,), eps=1e-05, elementwise_affine=True)\n",
       "          )\n",
       "          (3): BartDecoderLayer(\n",
       "            (self_attn): BartAttention(\n",
       "              (k_proj): Linear(in_features=768, out_features=768, bias=True)\n",
       "              (v_proj): Linear(in_features=768, out_features=768, bias=True)\n",
       "              (q_proj): Linear(in_features=768, out_features=768, bias=True)\n",
       "              (out_proj): Linear(in_features=768, out_features=768, bias=True)\n",
       "            )\n",
       "            (self_attn_layer_norm): LayerNorm((768,), eps=1e-05, elementwise_affine=True)\n",
       "            (encoder_attn): BartAttention(\n",
       "              (k_proj): Linear(in_features=768, out_features=768, bias=True)\n",
       "              (v_proj): Linear(in_features=768, out_features=768, bias=True)\n",
       "              (q_proj): Linear(in_features=768, out_features=768, bias=True)\n",
       "              (out_proj): Linear(in_features=768, out_features=768, bias=True)\n",
       "            )\n",
       "            (encoder_attn_layer_norm): LayerNorm((768,), eps=1e-05, elementwise_affine=True)\n",
       "            (fc1): Linear(in_features=768, out_features=3072, bias=True)\n",
       "            (fc2): Linear(in_features=3072, out_features=768, bias=True)\n",
       "            (final_layer_norm): LayerNorm((768,), eps=1e-05, elementwise_affine=True)\n",
       "          )\n",
       "          (4): BartDecoderLayer(\n",
       "            (self_attn): BartAttention(\n",
       "              (k_proj): Linear(in_features=768, out_features=768, bias=True)\n",
       "              (v_proj): Linear(in_features=768, out_features=768, bias=True)\n",
       "              (q_proj): Linear(in_features=768, out_features=768, bias=True)\n",
       "              (out_proj): Linear(in_features=768, out_features=768, bias=True)\n",
       "            )\n",
       "            (self_attn_layer_norm): LayerNorm((768,), eps=1e-05, elementwise_affine=True)\n",
       "            (encoder_attn): BartAttention(\n",
       "              (k_proj): Linear(in_features=768, out_features=768, bias=True)\n",
       "              (v_proj): Linear(in_features=768, out_features=768, bias=True)\n",
       "              (q_proj): Linear(in_features=768, out_features=768, bias=True)\n",
       "              (out_proj): Linear(in_features=768, out_features=768, bias=True)\n",
       "            )\n",
       "            (encoder_attn_layer_norm): LayerNorm((768,), eps=1e-05, elementwise_affine=True)\n",
       "            (fc1): Linear(in_features=768, out_features=3072, bias=True)\n",
       "            (fc2): Linear(in_features=3072, out_features=768, bias=True)\n",
       "            (final_layer_norm): LayerNorm((768,), eps=1e-05, elementwise_affine=True)\n",
       "          )\n",
       "          (5): BartDecoderLayer(\n",
       "            (self_attn): BartAttention(\n",
       "              (k_proj): Linear(in_features=768, out_features=768, bias=True)\n",
       "              (v_proj): Linear(in_features=768, out_features=768, bias=True)\n",
       "              (q_proj): Linear(in_features=768, out_features=768, bias=True)\n",
       "              (out_proj): Linear(in_features=768, out_features=768, bias=True)\n",
       "            )\n",
       "            (self_attn_layer_norm): LayerNorm((768,), eps=1e-05, elementwise_affine=True)\n",
       "            (encoder_attn): BartAttention(\n",
       "              (k_proj): Linear(in_features=768, out_features=768, bias=True)\n",
       "              (v_proj): Linear(in_features=768, out_features=768, bias=True)\n",
       "              (q_proj): Linear(in_features=768, out_features=768, bias=True)\n",
       "              (out_proj): Linear(in_features=768, out_features=768, bias=True)\n",
       "            )\n",
       "            (encoder_attn_layer_norm): LayerNorm((768,), eps=1e-05, elementwise_affine=True)\n",
       "            (fc1): Linear(in_features=768, out_features=3072, bias=True)\n",
       "            (fc2): Linear(in_features=3072, out_features=768, bias=True)\n",
       "            (final_layer_norm): LayerNorm((768,), eps=1e-05, elementwise_affine=True)\n",
       "          )\n",
       "        )\n",
       "        (layernorm_embedding): LayerNorm((768,), eps=1e-05, elementwise_affine=True)\n",
       "      )\n",
       "    )\n",
       "    (lm_head): Linear(in_features=768, out_features=52467, bias=False)\n",
       "  )\n",
       "  (logsftmax): LogSoftmax(dim=-1)\n",
       ")"
      ]
     },
     "execution_count": 7,
     "metadata": {},
     "output_type": "execute_result"
    }
   ],
   "source": [
    "model_parameters = model_ckpt['model']\n",
    "model.load_state_dict(model_parameters, strict=False)\n",
    "model.eval()"
   ]
  },
  {
   "cell_type": "code",
   "execution_count": 8,
   "metadata": {
    "scrolled": true
   },
   "outputs": [
    {
     "name": "stdout",
     "output_type": "stream",
     "text": [
      "Number of Special Token is 2202\n"
     ]
    },
    {
     "name": "stderr",
     "output_type": "stream",
     "text": [
      " 28% |###################################################################################                                                                                                                                                                                                                        |\r"
     ]
    },
    {
     "name": "stdout",
     "output_type": "stream",
     "text": [
      "original vocabulary Size 50265\n",
      "vocabulary size after extension is 52467\n",
      "50265\n",
      "Start loading training data...\n",
      "Loading Table Data...\n"
     ]
    },
    {
     "name": "stderr",
     "output_type": "stream",
     "text": [
      "100% |###########################################################################################################################################################################################################################################################################################################|\n",
      "100% |###########################################################################################################################################################################################################################################################################################################|\n",
      " 14% |#########################################                                                                                                                                                                                                                                                                  |\r"
     ]
    },
    {
     "name": "stdout",
     "output_type": "stream",
     "text": [
      "Loading Content Data...\n",
      "Loading Reference Data...\n"
     ]
    },
    {
     "name": "stderr",
     "output_type": "stream",
     "text": [
      "100% |###########################################################################################################################################################################################################################################################################################################|\n",
      " 36% |###########################################################################################################                                                                                                                                                                                                |\r"
     ]
    },
    {
     "name": "stdout",
     "output_type": "stream",
     "text": [
      "Training data loaded.\n",
      "Start loading validation data...\n",
      "Loading Table Data...\n"
     ]
    },
    {
     "name": "stderr",
     "output_type": "stream",
     "text": [
      "100% |###########################################################################################################################################################################################################################################################################################################|\n",
      "100% |###########################################################################################################################################################################################################################################################################################################|\n",
      " 28% |###################################################################################                                                                                                                                                                                                                        |\r"
     ]
    },
    {
     "name": "stdout",
     "output_type": "stream",
     "text": [
      "Loading Content Data...\n",
      "Loading Reference Data...\n"
     ]
    },
    {
     "name": "stderr",
     "output_type": "stream",
     "text": [
      "100% |###########################################################################################################################################################################################################################################################################################################|\r"
     ]
    },
    {
     "name": "stdout",
     "output_type": "stream",
     "text": [
      "Validation data loaded.\n",
      "train number is 50, dev number is 50\n",
      "--- 10.205432176589966 seconds ---\n"
     ]
    },
    {
     "name": "stderr",
     "output_type": "stream",
     "text": [
      "\n"
     ]
    }
   ],
   "source": [
    "from dataclass import *\n",
    "import time\n",
    "train_data_dict, dev_data_dict = {}, {}\n",
    "train_data_dict['table_text_path'] = r'../data/tiny_data/tiny_table.txt'\n",
    "train_data_dict['content_text_path'] = r'../data/tiny_data/tiny_content_plan.txt'\n",
    "train_data_dict['reference_sentence_path'] = r'../data/tiny_data/tiny_reference.txt'\n",
    "dev_data_dict['table_text_path'] = r'../data/tiny_data/tiny_table.txt'\n",
    "dev_data_dict['content_text_path'] = r'../data/tiny_data/tiny_content_plan.txt'\n",
    "dev_data_dict['reference_sentence_path'] = r'../data/tiny_data/tiny_reference.txt'\n",
    "max_table_len = 320\n",
    "max_content_plan_len = 25\n",
    "max_tgt_len = 80\n",
    "model_name = 'facebook/bart-base'\n",
    "special_token_path = r'../data/totto_col_header_vocab.txt'\n",
    "min_slot_key_cnt = 10\n",
    "start_time = time.time()\n",
    "use_RL = False\n",
    "data = Data(train_data_dict, dev_data_dict, max_table_len, max_content_plan_len, max_tgt_len, \n",
    "        model_name, special_token_path, min_slot_key_cnt, use_RL)\n",
    "print(\"--- %s seconds ---\" % (time.time() - start_time))"
   ]
  },
  {
   "cell_type": "code",
   "execution_count": 9,
   "metadata": {},
   "outputs": [],
   "source": [
    "table_path = r'../data/dev/totto_dev_table.txt'\n",
    "content_path = r'../data/dev/totto_dev_content_plan.txt'\n",
    "reference_path = r'../data/dev/totto_dev_reference.txt'\n",
    "\n",
    "table_list, content_list, reference_list = [], [], []\n",
    "with open(table_path, 'r', encoding = 'utf8') as i:\n",
    "    lines = i.readlines()\n",
    "    for l in lines:\n",
    "        table_list.append(l.strip('\\n'))\n",
    "\n",
    "with open(content_path, 'r', encoding = 'utf8') as i:\n",
    "    lines = i.readlines()\n",
    "    for l in lines:\n",
    "        content_list.append(l.strip('\\n'))\n",
    "\n",
    "with open(reference_path, 'r', encoding = 'utf8') as i:\n",
    "    lines = i.readlines()\n",
    "    for l in lines:\n",
    "        reference_list.append(l.strip('\\n'))\n",
    "\n",
    "        \n",
    "data_list = []\n",
    "data_num = len(table_list)\n",
    "for k in range(data_num):\n",
    "    data_list.append((table_list[k], content_list[k], reference_list[k]))"
   ]
  },
  {
   "cell_type": "markdown",
   "metadata": {},
   "source": [
    "# Generation with Reference Content Plan"
   ]
  },
  {
   "cell_type": "code",
   "execution_count": 10,
   "metadata": {},
   "outputs": [
    {
     "name": "stdout",
     "output_type": "stream",
     "text": [
      "Table is:\n",
      "__page_title__ : George Washington Colonials football __EOS__ __Date__ : 1956 __EOS__ __Bowl__ : Sun Bowl __EOS__ __Opponent__ : Texas Western __EOS__ __Result__ : W 13–0 __EOS__ __section_title__ : Bowl games __EOS__\n",
      "\n",
      "Reference Content Plan is:\n",
      "__Date__ __page_title__ __Result__ __Opponent__ __Bowl__\n",
      "\n",
      "Reference Sentence is:\n",
      "In 1956, George Washington Colonials scored 13–0 against Texas Western at the Sun Bowl.\n",
      "\n",
      "Generated Result is:\n",
      "In 1956, George Washington Colonials football team scored 13–0 against Texas Western in the Sun Bowl.\n",
      "\n"
     ]
    }
   ],
   "source": [
    "idx = 11\n",
    "table, content_plan, reference_sentence = data_list[idx]\n",
    "print ('Table is:')\n",
    "print (table + '\\n')\n",
    "print ('Reference Content Plan is:')\n",
    "print (content_plan + '\\n')\n",
    "print ('Reference Sentence is:')\n",
    "print (reference_sentence + '\\n')\n",
    "table_text = data_list[idx][0]\n",
    "content_text = data_list[idx][1]\n",
    "src_id_list = [data.sep_idx] + data.load_one_text_id(table_text, 320) + [data.sep_idx] + \\\n",
    "data.load_one_text_id(content_plan, 25)\n",
    "batch_src_id_list = [src_id_list]\n",
    "batch_src_tensor, batch_src_mask = data.process_source_tensor(batch_src_id_list)\n",
    "result = model.generate(batch_src_tensor, batch_src_mask)[0]\n",
    "print ('Generated Result is:')\n",
    "print (result + '\\n')"
   ]
  },
  {
   "cell_type": "markdown",
   "metadata": {},
   "source": [
    "# Controlled Generation with Different Content Plan"
   ]
  },
  {
   "cell_type": "code",
   "execution_count": 11,
   "metadata": {},
   "outputs": [
    {
     "name": "stdout",
     "output_type": "stream",
     "text": [
      "Table is:\n",
      "__page_title__ : George Washington Colonials football __EOS__ __Date__ : 1956 __EOS__ __Bowl__ : Sun Bowl __EOS__ __Opponent__ : Texas Western __EOS__ __Result__ : W 13–0 __EOS__ __section_title__ : Bowl games __EOS__\n",
      "\n",
      "Input Content Plan is:\n",
      "__Date__ __Result__ __Opponent__ __page_title__ __Bowl__\n",
      "\n",
      "Reference Sentence is:\n",
      "In 1956, George Washington Colonials scored 13–0 against Texas Western at the Sun Bowl.\n",
      "\n",
      "Generated Result is:\n",
      "In 1956, with a 13–0 victory over Texas Western, Colonials appeared in the Sun Bowl.\n",
      "\n"
     ]
    }
   ],
   "source": [
    "idx = 11\n",
    "table, _, reference_sentence = data_list[idx]\n",
    "print ('Table is:')\n",
    "print (table + '\\n')\n",
    "content_plan = '__Date__ __Result__ __Opponent__ __page_title__ __Bowl__'\n",
    "print ('Input Content Plan is:')\n",
    "print (content_plan + '\\n')\n",
    "print ('Reference Sentence is:')\n",
    "print (reference_sentence + '\\n')\n",
    "table_text = data_list[idx][0]\n",
    "content_text = data_list[idx][1]\n",
    "src_id_list = [data.sep_idx] + data.load_one_text_id(table_text, 320) + [data.sep_idx] + \\\n",
    "data.load_one_text_id(content_plan, 25)\n",
    "batch_src_id_list = [src_id_list]\n",
    "batch_src_tensor, batch_src_mask = data.process_source_tensor(batch_src_id_list)\n",
    "result = model.generate(batch_src_tensor, batch_src_mask)[0]\n",
    "print ('Generated Result is:')\n",
    "print (result + '\\n')"
   ]
  },
  {
   "cell_type": "code",
   "execution_count": 27,
   "metadata": {},
   "outputs": [],
   "source": [
    "def create_table(list1, list2):\n",
    "    table_string = \"\"\n",
    "    for elem1, elem2 in zip(list1, list2):\n",
    "        table_string += f\"__{elem1}__ : \"\n",
    "        table_string += f\"{elem2} __EOS__ \"\n",
    "    return table_string[:-1]\n",
    "\n",
    "def create_content_plan(list):\n",
    "    cp_string=\"\"\n",
    "    for elem in list:\n",
    "        cp_string += f\"__{elem}__ \"\n",
    "    return cp_string[:-1]"
   ]
  },
  {
   "cell_type": "code",
   "execution_count": 34,
   "metadata": {},
   "outputs": [
    {
     "name": "stdout",
     "output_type": "stream",
     "text": [
      "Table is:\n",
      "__page_title__ : Substitutions __EOS__ __player__ : Michael Phelps __EOS__ __team__ : Hawks __EOS__ __minute__ : 4 __EOS__ __location__ : leftside of the area __EOS__\n",
      "\n",
      "Input Content Plan is:\n",
      "__page_title__ __player__ __team__ __minute__ __location__\n",
      "\n",
      "Generated Result is:\n",
      "Phelps was part of the Hawks.\n",
      "\n"
     ]
    }
   ],
   "source": [
    "idx = 11\n",
    "table, _, reference_sentence = data_list[idx]\n",
    "\n",
    "tab1array = [\"page_title\", \"player\", \"team\", \"minute\", \"location\"]\n",
    "tab2array = [\"Substitutions\", \"Michael Phelps\", \"Hawks\", \"4\", \"leftside of the area\"]\n",
    "cparray = [\"page_title\", \"player\", \"team\", \"minute\", \"location\"]\n",
    "\n",
    "\n",
    "print ('Table is:')\n",
    "table = create_table(tab1array, tab2array)\n",
    "print (table + '\\n')\n",
    "content_plan = create_content_plan(cparray)\n",
    "print ('Input Content Plan is:')\n",
    "print (content_plan + '\\n')\n",
    "table_text = table #data_list[idx][0]\n",
    "content_text = content_plan #data_list[idx][1]\n",
    "src_id_list = [data.sep_idx] + data.load_one_text_id(table_text, 320) + [data.sep_idx] + \\\n",
    "data.load_one_text_id(content_plan, 25)\n",
    "batch_src_id_list = [src_id_list]\n",
    "batch_src_tensor, batch_src_mask = data.process_source_tensor(batch_src_id_list)\n",
    "result = model.generate(batch_src_tensor, batch_src_mask)[0]\n",
    "print ('Generated Result is:')\n",
    "print (result + '\\n')"
   ]
  },
  {
   "cell_type": "code",
   "execution_count": 13,
   "metadata": {},
   "outputs": [
    {
     "name": "stdout",
     "output_type": "stream",
     "text": [
      "Table is:\n",
      "__page_title__ : George Washington Colonials football __EOS__ __Date__ : 1956 __EOS__ __Bowl__ : Sun Bowl __EOS__ __Opponent__ : Texas Western __EOS__ __Result__ : W 13–0 __EOS__ __section_title__ : Bowl games __EOS__\n",
      "\n",
      "Input Content Plan is:\n",
      "__Bowl__ __page_title__ __Opponent__ __Result__ __Date__\n",
      "\n",
      "Reference Sentence is:\n",
      "In 1956, George Washington Colonials scored 13–0 against Texas Western at the Sun Bowl.\n",
      "\n",
      "Generated Result is:\n",
      "In the Sun Bowl, George Washington Colonials defeated Texas Western by 13–0 in 1956.\n",
      "\n"
     ]
    }
   ],
   "source": [
    "idx = 11\n",
    "table, _, reference_sentence = data_list[idx]\n",
    "print ('Table is:')\n",
    "print (table + '\\n')\n",
    "content_plan = '__Bowl__ __page_title__ __Opponent__ __Result__ __Date__'\n",
    "print ('Input Content Plan is:')\n",
    "print (content_plan + '\\n')\n",
    "print ('Reference Sentence is:')\n",
    "print (reference_sentence + '\\n')\n",
    "table_text = data_list[idx][0]\n",
    "content_text = data_list[idx][1]\n",
    "src_id_list = [data.sep_idx] + data.load_one_text_id(table_text, 320) + [data.sep_idx] + \\\n",
    "data.load_one_text_id(content_plan, 25)\n",
    "batch_src_id_list = [src_id_list]\n",
    "batch_src_tensor, batch_src_mask = data.process_source_tensor(batch_src_id_list)\n",
    "result = model.generate(batch_src_tensor, batch_src_mask)[0]\n",
    "print ('Generated Result is:')\n",
    "print (result + '\\n')"
   ]
  },
  {
   "cell_type": "code",
   "execution_count": null,
   "metadata": {},
   "outputs": [],
   "source": []
  }
 ],
 "metadata": {
  "kernelspec": {
   "display_name": "Python 3 (ipykernel)",
   "language": "python",
   "name": "python3"
  },
  "language_info": {
   "codemirror_mode": {
    "name": "ipython",
    "version": 3
   },
   "file_extension": ".py",
   "mimetype": "text/x-python",
   "name": "python",
   "nbconvert_exporter": "python",
   "pygments_lexer": "ipython3",
   "version": "3.9.7"
  }
 },
 "nbformat": 4,
 "nbformat_minor": 4
}
